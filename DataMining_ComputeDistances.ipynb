{
  "nbformat": 4,
  "nbformat_minor": 0,
  "metadata": {
    "colab": {
      "provenance": []
    },
    "kernelspec": {
      "name": "python3",
      "display_name": "Python 3"
    },
    "language_info": {
      "name": "python"
    }
  },
  "cells": [
    {
      "cell_type": "markdown",
      "source": [
        "\n",
        "first block initializes a dataset you can use for training"
      ],
      "metadata": {
        "id": "1qxZ585d-vRx"
      }
    },
    {
      "cell_type": "code",
      "execution_count": null,
      "metadata": {
        "id": "-i6DaCw30in3"
      },
      "outputs": [],
      "source": [
        "import pandas as pd\n",
        "\n",
        "#this is the dataset from the example in class, use it for testing\n",
        "data = [['Susan','F','Blue','O-','excellent',75,'N','N'],['Jim','M','Red','O+','good',65,'N','N'],\n",
        "        ['Joe','M','Red','AB-','fair',64,'N','Y'],['Jane','F','Green','A+','poor',83,'Y','Y'],\n",
        "        ['Sam','M','Blue','A-','good',71,'N','N'],['Michelle','F','Blue','O-','good',90,'N','N']]\n",
        "\n",
        "\n",
        "df = pd.DataFrame( data, columns = ['Name', 'Gender', 'Favorite Color', 'Blood Type', 'General Health', 'Test1', 'Cough', 'High Blood Pressure'] ).drop( 'Name', axis=1 )\n",
        "\n",
        "#this is for the function where the column is tested for ordinal or not and then used when making it numeric\n",
        "#I'll give you that function because of this\n",
        "ordinal_order = ['poor', 'fair', 'good', 'excellent']\n",
        "df['General Health'] = pd.Categorical(df['General Health'], categories=ordinal_order, ordered=True)"
      ]
    },
    {
      "cell_type": "markdown",
      "source": [
        "more training data if you want it. I provide 2 sets for you and a function that can create more\n"
      ],
      "metadata": {
        "id": "JCXz-_frGhPd"
      }
    },
    {
      "cell_type": "code",
      "source": [
        "import numpy as np\n",
        "\n",
        "# Create a 10x10 DataFrame with columns of different types\n",
        "\n",
        "#here's more training data. It's just a function that creates training sets with a set seed and size\n",
        "def createDataset( seed, rows ):\n",
        "  np.random.seed(seed)\n",
        "  data1 = {\n",
        "      'Gender': np.random.choice(['Male', 'Female'], size=rows),\n",
        "      'Region': np.random.choice(['North', 'South', 'East', 'West'], size=rows),\n",
        "      'Is_Eligible': np.random.choice(['Y', 'N'], size=rows),\n",
        "      'Pet_Type': np.random.choice(['Dog', 'Cat', 'Bird'], size=rows),\n",
        "      'Favorite_Color': np.random.choice(['Red', 'Blue', 'Green'], size=rows),\n",
        "      'Education_Level': pd.Categorical(np.random.choice(['High School', 'College', 'Graduate School'], size=rows, p=[0.2, 0.5, 0.3]), categories=['High School', 'College', 'Graduate School'], ordered=True),\n",
        "      'Age': np.random.randint(18, 60, size=rows),\n",
        "      'Income': np.random.uniform(20000, 80000, size=rows),\n",
        "      'Height': np.random.normal(160, 10, size=rows),\n",
        "      'Has_Pet_Insurance': np.random.choice(['Y', 'N'], size=rows)\n",
        "  }\n",
        "\n",
        "  return pd.DataFrame(data1)\n",
        "\n",
        "#2 for you to try out since I promised I'd provide 3 training sets\n",
        "train2 = createDataset( 14, 10 )\n",
        "train3 = createDataset( 42, 15 )\n"
      ],
      "metadata": {
        "id": "EUiWgbWREL-g"
      },
      "execution_count": null,
      "outputs": []
    },
    {
      "cell_type": "markdown",
      "source": [
        "Uncomment a line and run to avoid having to change anything else below when testing with a different dataset"
      ],
      "metadata": {
        "id": "Lw5Fktu0Gzko"
      }
    },
    {
      "cell_type": "code",
      "source": [
        "df = train2\n",
        "#df = train3"
      ],
      "metadata": {
        "id": "ZIRu9hyJGxHS"
      },
      "execution_count": null,
      "outputs": []
    },
    {
      "cell_type": "markdown",
      "source": [
        "This block returns a dictionary containing every column and its datatype (symmetric binary, asymmetric binary, nominal, ordinal, or numeric)"
      ],
      "metadata": {
        "id": "mAmEEgoi-6yM"
      }
    },
    {
      "cell_type": "code",
      "source": [
        "def getDataType(column):\n",
        "\n",
        "    #Easiest test of all, juts test if its dtype is numeric\n",
        "    if pd.api.types.is_numeric_dtype(column):\n",
        "        return 'Numeric'\n",
        "\n",
        "    countValues = column.unique()\n",
        "\n",
        "    #In all of the data I give you to test and use to grade this assignment, Asymmetric Binary data will be Y/N\n",
        "    if len(countValues) == 2 and set(countValues) == {'Y', 'N'}:\n",
        "        return 'Asymmetric Binary'\n",
        "\n",
        "    #Since Asymmetric Binary is Y/N, Symmetric Binary will have 2 unique values that aren't Y/N\n",
        "    if len(countValues) == 2 and set(countValues) != {'Y', 'N'}:\n",
        "        return 'Symmetric Binary'\n",
        "\n",
        "    #This uses the code from the previous block to test for ordinal\n",
        "    if isinstance(column.dtype, pd.CategoricalDtype) and column.dtype.ordered:\n",
        "        return 'Ordinal'\n",
        "\n",
        "    #If it's categorical and not ordinal, it's nominal\n",
        "    if pd.api.types.is_categorical_dtype(column) or pd.api.types.is_object_dtype(column):\n",
        "        return 'Nominal'\n",
        "\n",
        "#This is just a dictionary mapping each column and its datatype. Might be useful\n",
        "dataTypes = {}\n",
        "for column in df.columns:\n",
        "  dataTypes[column] = getDataType(df[column])"
      ],
      "metadata": {
        "id": "SIjFn5uY7ej2"
      },
      "execution_count": null,
      "outputs": []
    },
    {
      "cell_type": "code",
      "source": [
        "dataTypes"
      ],
      "metadata": {
        "colab": {
          "base_uri": "https://localhost:8080/"
        },
        "id": "WJmIT58OG_OA",
        "outputId": "f44e36fe-62a5-48d0-c9b5-34ad4e0f1f7a"
      },
      "execution_count": null,
      "outputs": [
        {
          "output_type": "execute_result",
          "data": {
            "text/plain": [
              "{'Gender': 'Symmetric Binary',\n",
              " 'Favorite Color': 'Nominal',\n",
              " 'Blood Type': 'Nominal',\n",
              " 'General Health': 'Ordinal',\n",
              " 'Test1': 'Numeric',\n",
              " 'Cough': 'Asymmetric Binary',\n",
              " 'High Blood Pressure': 'Asymmetric Binary'}"
            ]
          },
          "metadata": {},
          "execution_count": 86
        }
      ]
    },
    {
      "cell_type": "markdown",
      "source": [
        "compute the distances\n"
      ],
      "metadata": {
        "id": "XvtyJU3G_IlD"
      }
    },
    {
      "cell_type": "code",
      "source": [
        "#You should pass a dataframe of just the symmetric binary columns here and return a matrix of the distance\n",
        "def symmetric_binary_dist( data ):\n",
        "\n",
        "\n",
        "  df = pd.DataFrame(data, columns=['Name','Gender', 'Favorite Color', 'Blood Type', 'General Health', 'Test1', 'Cough', 'High Blood Pressure']).drop('Name', axis=1)\n",
        "  ordinal_order = ['poor', 'fair', 'good', 'excellent']\n",
        "  df['General Health'] = pd.Categorical(df['General Health'], categories=ordinal_order, ordered=True)\n",
        "\n",
        "  for column_name, column_data in df.items():\n",
        "    if getDataType(column_data) != 'Symmetric Binary':\n",
        "      df = df.drop(column_name, axis=1)\n",
        "\n",
        "  num_col = len(df.columns)\n",
        "  num_rows = len(df)\n",
        "  col_name = df.columns\n",
        "  col_name = list(col_name)\n",
        "\n",
        "  dist = [[0 for j in range(num_rows)] for i in range(num_rows)]\n",
        "\n",
        "  for i in range(0,num_col):\n",
        "    for j in range(0,num_rows):\n",
        "      for z in range(0,num_rows):\n",
        "        if df.at[j,col_name[i]]==df.at[z,col_name[i]]:\n",
        "          dist[j][z] = 0\n",
        "        else:\n",
        "          dist[j][z] = 1\n",
        "\n",
        "  return dist\n",
        "symmetric_binary_dist(data)"
      ],
      "metadata": {
        "id": "-T2rRQMw0rTr",
        "colab": {
          "base_uri": "https://localhost:8080/"
        },
        "outputId": "76341950-004a-4a08-f05d-c441aaf7690b"
      },
      "execution_count": null,
      "outputs": [
        {
          "output_type": "execute_result",
          "data": {
            "text/plain": [
              "[[0, 1, 1, 0, 1, 0],\n",
              " [1, 0, 0, 1, 0, 1],\n",
              " [1, 0, 0, 1, 0, 1],\n",
              " [0, 1, 1, 0, 1, 0],\n",
              " [1, 0, 0, 1, 0, 1],\n",
              " [0, 1, 1, 0, 1, 0]]"
            ]
          },
          "metadata": {},
          "execution_count": 113
        }
      ]
    },
    {
      "cell_type": "code",
      "source": [
        "#You should pass a dataframe of just the nominal columns here and return a matrix of the distance\n",
        "def nominal_dist( data ):\n",
        "  dist = [[]]\n",
        "\n",
        "  df = pd.DataFrame(data, columns=['Name','Gender', 'Favorite Color', 'Blood Type', 'General Health', 'Test1', 'Cough', 'High Blood Pressure']).drop('Name', axis=1)\n",
        "  ordinal_order = ['poor', 'fair', 'good', 'excellent']\n",
        "  df['General Health'] = pd.Categorical(df['General Health'], categories=ordinal_order, ordered=True)\n",
        "\n",
        "  for column_name, column_data in df.iteritems():\n",
        "    if getDataType(column_data) != 'Nominal':\n",
        "      df = df.drop(column_name, axis=1)\n",
        "\n",
        "  num_col = len(df.columns)\n",
        "  num_rows = len(df)\n",
        "  col_name = df.columns\n",
        "  col_name = list(col_name)\n",
        "\n",
        "  dist = [[0 for j in range(num_rows)] for i in range(num_rows)]\n",
        "\n",
        "  for i in range(0,num_col):\n",
        "    for j in range(0,num_rows):\n",
        "      for z in range(0,num_rows):\n",
        "        if df.at[j,col_name[i]]==df.at[z,col_name[i]]:\n",
        "          dist[j][z] += 0\n",
        "        else:\n",
        "          dist[j][z] += .5\n",
        "\n",
        "  return dist"
      ],
      "metadata": {
        "id": "zzuVpRWL1_3v",
        "colab": {
          "base_uri": "https://localhost:8080/"
        },
        "outputId": "8135966e-dc42-4735-8af0-9cfd97e5fa9e"
      },
      "execution_count": null,
      "outputs": [
        {
          "output_type": "stream",
          "name": "stderr",
          "text": [
            "<ipython-input-101-876a8bc908de>:9: FutureWarning: iteritems is deprecated and will be removed in a future version. Use .items instead.\n",
            "  for column_name, column_data in df.iteritems():\n"
          ]
        },
        {
          "output_type": "execute_result",
          "data": {
            "text/plain": [
              "[[0, 1.0, 1.0, 1.0, 0.5, 0],\n",
              " [1.0, 0, 0.5, 1.0, 1.0, 1.0],\n",
              " [1.0, 0.5, 0, 1.0, 1.0, 1.0],\n",
              " [1.0, 1.0, 1.0, 0, 1.0, 1.0],\n",
              " [0.5, 1.0, 1.0, 1.0, 0, 0.5],\n",
              " [0, 1.0, 1.0, 1.0, 0.5, 0]]"
            ]
          },
          "metadata": {},
          "execution_count": 101
        }
      ]
    },
    {
      "cell_type": "code",
      "source": [
        "#You should pass a dataframe of just the ordinal columns here and return a matrix of the distance\n",
        "#Suggestion: maybe just convert to numeric and run the numeric_dist method\n",
        "def ordinal_dist( data ):\n",
        "  dist = [[]]\n",
        "\n",
        "  df = pd.DataFrame(data, columns=['Name','Gender', 'Favorite Color', 'Blood Type', 'General Health', 'Test1', 'Cough', 'High Blood Pressure']).drop('Name', axis=1)\n",
        "  ordinal_order = ['poor', 'fair', 'good', 'excellent']\n",
        "  df['General Health'] = pd.Categorical(df['General Health'], categories=ordinal_order, ordered=True)\n",
        "\n",
        "  for column_name, column_data in df.iteritems():\n",
        "    if getDataType(column_data) != 'Ordinal':\n",
        "      df = df.drop(column_name, axis=1)\n",
        "\n",
        "  replace_d = {'excellent':1, 'good':2/3, 'fair':1/3, 'poor':0}\n",
        "\n",
        "  df['General Health'] = df['General Health'].replace(replace_d)\n",
        "\n",
        "\n",
        "  num_col = len(df.columns)\n",
        "  num_rows = len(df)\n",
        "  col_name = df.columns\n",
        "  col_name = list(col_name)\n",
        "\n",
        "  dist = [[0 for j in range(num_rows)] for i in range(num_rows)]\n",
        "\n",
        "  for i in range(0,num_col):\n",
        "    for j in range(0,num_rows):\n",
        "      for z in range(0,num_rows):\n",
        "        dist[j][z] = round(abs(df.at[j, col_name[i]]-df.at[z, col_name[i]]), 3)\n",
        "\n",
        "  return dist"
      ],
      "metadata": {
        "id": "NmUKPnj22Cwv",
        "colab": {
          "base_uri": "https://localhost:8080/"
        },
        "outputId": "a6cf35c4-50f1-4837-9c9f-8d06ef0eceb0"
      },
      "execution_count": null,
      "outputs": [
        {
          "output_type": "stream",
          "name": "stderr",
          "text": [
            "<ipython-input-99-2f34e9a5a25d>:10: FutureWarning: iteritems is deprecated and will be removed in a future version. Use .items instead.\n",
            "  for column_name, column_data in df.iteritems():\n"
          ]
        },
        {
          "output_type": "execute_result",
          "data": {
            "text/plain": [
              "[[0.0, 0.333, 0.667, 1.0, 0.333, 0.333],\n",
              " [0.333, 0.0, 0.333, 0.667, 0.0, 0.0],\n",
              " [0.667, 0.333, 0.0, 0.333, 0.333, 0.333],\n",
              " [1.0, 0.667, 0.333, 0.0, 0.667, 0.667],\n",
              " [0.333, 0.0, 0.333, 0.667, 0.0, 0.0],\n",
              " [0.333, 0.0, 0.333, 0.667, 0.0, 0.0]]"
            ]
          },
          "metadata": {},
          "execution_count": 99
        }
      ]
    },
    {
      "cell_type": "code",
      "source": [
        "#You should pass a dataframe of just the numeric columns here and return a matrix of the distance\n",
        "def numeric_dist( data ):\n",
        "  dist = [[]]\n",
        "\n",
        "  df = pd.DataFrame(data, columns=['Name','Gender', 'Favorite Color', 'Blood Type', 'General Health', 'Test1', 'Cough', 'High Blood Pressure']).drop('Name', axis=1)\n",
        "  ordinal_order = ['poor', 'fair', 'good', 'excellent']\n",
        "  df['General Health'] = pd.Categorical(df['General Health'], categories=ordinal_order, ordered=True)\n",
        "\n",
        "  for column_name, column_data in df.iteritems():\n",
        "    if getDataType(column_data) != 'Numeric':\n",
        "      df = df.drop(column_name, axis=1)\n",
        "\n",
        "  num_col = len(df.columns)\n",
        "  num_rows = len(df)\n",
        "  col_name = df.columns\n",
        "  col_name = list(col_name)\n",
        "  replace = {}\n",
        "\n",
        "  for z in range(0, num_col):\n",
        "    min = df[col_name[z]].min()\n",
        "    max = df[col_name[z]].max()\n",
        "    df[col_name[z]] = df[col_name[z]].replace(replace)\n",
        "    for f in range(0,num_rows):\n",
        "      num = df.at[f, col_name[z]]\n",
        "      replace[num] = (num-min)/(max-min)\n",
        "  df[col_name[z]] = df[col_name[z]].replace(replace)\n",
        "\n",
        "\n",
        "  dist = [[0 for j in range(num_rows)] for i in range(num_rows)]\n",
        "\n",
        "  for i in range(0,num_col):\n",
        "    for j in range(0,num_rows):\n",
        "      for z in range(0,num_rows):\n",
        "        dist[j][z] = round(abs(df.at[j, col_name[i]]-df.at[z, col_name[i]]), 3)\n",
        "\n",
        "\n",
        "  return dist"
      ],
      "metadata": {
        "id": "xJnZkMGt2PH8",
        "colab": {
          "base_uri": "https://localhost:8080/"
        },
        "outputId": "309a6e18-929b-48e9-a8d1-9eca56b92c2c"
      },
      "execution_count": null,
      "outputs": [
        {
          "output_type": "stream",
          "name": "stderr",
          "text": [
            "<ipython-input-100-8c92dfa1c3f4>:9: FutureWarning: iteritems is deprecated and will be removed in a future version. Use .items instead.\n",
            "  for column_name, column_data in df.iteritems():\n"
          ]
        },
        {
          "output_type": "execute_result",
          "data": {
            "text/plain": [
              "[[0.0, 0.385, 0.423, 0.308, 0.154, 0.577],\n",
              " [0.385, 0.0, 0.038, 0.692, 0.231, 0.962],\n",
              " [0.423, 0.038, 0.0, 0.731, 0.269, 1.0],\n",
              " [0.308, 0.692, 0.731, 0.0, 0.462, 0.269],\n",
              " [0.154, 0.231, 0.269, 0.462, 0.0, 0.731],\n",
              " [0.577, 0.962, 1.0, 0.269, 0.731, 0.0]]"
            ]
          },
          "metadata": {},
          "execution_count": 100
        }
      ]
    },
    {
      "cell_type": "code",
      "source": [
        "#You should pass a dataframe of just the asymmetric binary columns here and return a matrix of the distance\n",
        "def asymmetric_binary_dist( data ):\n",
        "  dist = [[]]\n",
        "\n",
        "  df = pd.DataFrame(data, columns=['Name','Gender', 'Favorite Color', 'Blood Type', 'General Health', 'Test1', 'Cough', 'High Blood Pressure']).drop('Name', axis=1)\n",
        "  ordinal_order = ['poor', 'fair', 'good', 'excellent']\n",
        "  df['General Health'] = pd.Categorical(df['General Health'], categories=ordinal_order, ordered=True)\n",
        "\n",
        "  for column_name, column_data in df.iteritems():\n",
        "    if getDataType(column_data) != 'Asymmetric Binary':\n",
        "      df = df.drop(column_name, axis=1)\n",
        "\n",
        "  num_col = len(df.columns)\n",
        "  num_rows = len(df)\n",
        "  col_name = df.columns\n",
        "  col_name = list(col_name)\n",
        "\n",
        "  dist = [[0 for j in range(num_rows)] for i in range(num_rows)]\n",
        "\n",
        "  for i in range(0,num_col):\n",
        "    for j in range(0,num_rows):\n",
        "      for z in range(0,num_rows):\n",
        "        if df.at[j,col_name[i]]== 'N' and df.at[z,col_name[i]] == 'N':\n",
        "          dist[j][z] += 0\n",
        "        elif (df.at[j,col_name[i]]== 'Y' and df.at[z,col_name[i]] == 'N') or (df.at[j,col_name[i]]== 'N' and df.at[z,col_name[i]] == 'Y'):\n",
        "          dist[j][z] += .5\n",
        "  return dist\n",
        "\n",
        "asymmetric_binary_dist( data )"
      ],
      "metadata": {
        "id": "INp9IbJG2Qzl",
        "colab": {
          "base_uri": "https://localhost:8080/"
        },
        "outputId": "970789f0-8105-4187-8a92-f580001cfd04"
      },
      "execution_count": null,
      "outputs": [
        {
          "output_type": "stream",
          "name": "stderr",
          "text": [
            "<ipython-input-128-5cf501f0353d>:9: FutureWarning: iteritems is deprecated and will be removed in a future version. Use .items instead.\n",
            "  for column_name, column_data in df.iteritems():\n"
          ]
        },
        {
          "output_type": "execute_result",
          "data": {
            "text/plain": [
              "[[0, 0, 0.5, 1.0, 0, 0],\n",
              " [0, 0, 0.5, 1.0, 0, 0],\n",
              " [0.5, 0.5, 0, 0.5, 0.5, 0.5],\n",
              " [1.0, 1.0, 0.5, 0, 1.0, 1.0],\n",
              " [0, 0, 0.5, 1.0, 0, 0],\n",
              " [0, 0, 0.5, 1.0, 0, 0]]"
            ]
          },
          "metadata": {},
          "execution_count": 128
        }
      ]
    },
    {
      "cell_type": "code",
      "source": [
        "#This should probably call every distance method and aggregate the results.\n",
        "#Don't forget to make sure each individual distance matrix is weighted by the number of columns of that data type\n",
        "def get_dist( data ):\n",
        "\n",
        "  df = pd.DataFrame(data, columns=['Name','Gender', 'Favorite Color', 'Blood Type', 'General Health', 'Test1', 'Cough', 'High Blood Pressure']).drop('Name', axis=1)\n",
        "  ordinal_order = ['poor', 'fair', 'good', 'excellent']\n",
        "  df['General Health'] = pd.Categorical(df['General Health'], categories=ordinal_order, ordered=True)\n",
        "\n",
        "  num_col = len(df.columns)\n",
        "  num_rows = len(df)\n",
        "  col_name = df.columns\n",
        "  col_name = list(col_name)\n",
        "\n",
        "  dist_sym = [[0 for j in range(num_rows)] for i in range(num_rows)]\n",
        "  dist_nom = [[0 for j in range(num_rows)] for i in range(num_rows)]\n",
        "  dist_ord = [[0 for j in range(num_rows)] for i in range(num_rows)]\n",
        "  dist_numeric = [[0 for j in range(num_rows)] for i in range(num_rows)]\n",
        "  dist_asy = [[0 for j in range(num_rows)] for i in range(num_rows)]\n",
        "\n",
        "\n",
        "  dist_sym = symmetric_binary_dist(data)\n",
        "  dist_nom = nominal_dist(data)\n",
        "  dist_ord = ordinal_dist(data)\n",
        "  dist_numeric = numeric_dist(data)\n",
        "  dist_asy = asymmetric_binary_dist(data)\n",
        "\n",
        "  for i in range(num_rows):\n",
        "    for y in range(num_rows):\n",
        "      dist_sym[i][y] = round(dist_sym[i][y]*1/7,3)\n",
        "      dist_nom[i][y] = round(dist_nom[i][y]*2/7,3)\n",
        "      dist_ord[i][y] = round(dist_ord[i][y]*1/7,3)\n",
        "      dist_numeric[i][y] = round(dist_numeric[i][y]*1/7,3)\n",
        "      dist_asy[i][y] = round(dist_asy[i][y]*2/7,3)\n",
        "\n",
        "  return \"Symmetric Binary\", dist_sym,\"Nominal\", dist_nom, \"Ordinal\", dist_ord, \"Numeric\", dist_numeric, \"Asymetric Binary\", dist_asy\n",
        "\n",
        "get_dist(data)"
      ],
      "metadata": {
        "id": "UCj75A6B_YqN",
        "colab": {
          "base_uri": "https://localhost:8080/"
        },
        "outputId": "ac0df452-f5ec-4a5a-b065-810fea9f176e"
      },
      "execution_count": null,
      "outputs": [
        {
          "output_type": "stream",
          "name": "stderr",
          "text": [
            "<ipython-input-101-876a8bc908de>:9: FutureWarning: iteritems is deprecated and will be removed in a future version. Use .items instead.\n",
            "  for column_name, column_data in df.iteritems():\n",
            "<ipython-input-99-2f34e9a5a25d>:10: FutureWarning: iteritems is deprecated and will be removed in a future version. Use .items instead.\n",
            "  for column_name, column_data in df.iteritems():\n",
            "<ipython-input-100-8c92dfa1c3f4>:9: FutureWarning: iteritems is deprecated and will be removed in a future version. Use .items instead.\n",
            "  for column_name, column_data in df.iteritems():\n",
            "<ipython-input-128-5cf501f0353d>:9: FutureWarning: iteritems is deprecated and will be removed in a future version. Use .items instead.\n",
            "  for column_name, column_data in df.iteritems():\n"
          ]
        },
        {
          "output_type": "execute_result",
          "data": {
            "text/plain": [
              "('Symmetric Binary',\n",
              " [[0.0, 0.143, 0.143, 0.0, 0.143, 0.0],\n",
              "  [0.143, 0.0, 0.0, 0.143, 0.0, 0.143],\n",
              "  [0.143, 0.0, 0.0, 0.143, 0.0, 0.143],\n",
              "  [0.0, 0.143, 0.143, 0.0, 0.143, 0.0],\n",
              "  [0.143, 0.0, 0.0, 0.143, 0.0, 0.143],\n",
              "  [0.0, 0.143, 0.143, 0.0, 0.143, 0.0]],\n",
              " 'Nominal',\n",
              " [[0.0, 0.286, 0.286, 0.286, 0.143, 0.0],\n",
              "  [0.286, 0.0, 0.143, 0.286, 0.286, 0.286],\n",
              "  [0.286, 0.143, 0.0, 0.286, 0.286, 0.286],\n",
              "  [0.286, 0.286, 0.286, 0.0, 0.286, 0.286],\n",
              "  [0.143, 0.286, 0.286, 0.286, 0.0, 0.143],\n",
              "  [0.0, 0.286, 0.286, 0.286, 0.143, 0.0]],\n",
              " 'Ordinal',\n",
              " [[0.0, 0.048, 0.095, 0.143, 0.048, 0.048],\n",
              "  [0.048, 0.0, 0.048, 0.095, 0.0, 0.0],\n",
              "  [0.095, 0.048, 0.0, 0.048, 0.048, 0.048],\n",
              "  [0.143, 0.095, 0.048, 0.0, 0.095, 0.095],\n",
              "  [0.048, 0.0, 0.048, 0.095, 0.0, 0.0],\n",
              "  [0.048, 0.0, 0.048, 0.095, 0.0, 0.0]],\n",
              " 'Numeric',\n",
              " [[0.0, 0.055, 0.06, 0.044, 0.022, 0.082],\n",
              "  [0.055, 0.0, 0.005, 0.099, 0.033, 0.137],\n",
              "  [0.06, 0.005, 0.0, 0.104, 0.038, 0.143],\n",
              "  [0.044, 0.099, 0.104, 0.0, 0.066, 0.038],\n",
              "  [0.022, 0.033, 0.038, 0.066, 0.0, 0.104],\n",
              "  [0.082, 0.137, 0.143, 0.038, 0.104, 0.0]],\n",
              " 'Asymetric Binary',\n",
              " [[0.0, 0.0, 0.143, 0.286, 0.0, 0.0],\n",
              "  [0.0, 0.0, 0.143, 0.286, 0.0, 0.0],\n",
              "  [0.143, 0.143, 0.0, 0.143, 0.143, 0.143],\n",
              "  [0.286, 0.286, 0.143, 0.0, 0.286, 0.286],\n",
              "  [0.0, 0.0, 0.143, 0.286, 0.0, 0.0],\n",
              "  [0.0, 0.0, 0.143, 0.286, 0.0, 0.0]])"
            ]
          },
          "metadata": {},
          "execution_count": 129
        }
      ]
    }
  ]
}